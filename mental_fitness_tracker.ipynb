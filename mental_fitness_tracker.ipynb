{
  "nbformat": 4,
  "nbformat_minor": 0,
  "metadata": {
    "colab": {
      "provenance": [],
      "authorship_tag": "ABX9TyMlZ30CljmcY4phusP8AUqK",
      "include_colab_link": true
    },
    "kernelspec": {
      "name": "python3",
      "display_name": "Python 3"
    },
    "language_info": {
      "name": "python"
    }
  },
  "cells": [
    {
      "cell_type": "markdown",
      "metadata": {
        "id": "view-in-github",
        "colab_type": "text"
      },
      "source": [
        "<a href=\"https://colab.research.google.com/github/bhavithavelugoti/digibhem/blob/main/mental_fitness_tracker.ipynb\" target=\"_parent\"><img src=\"https://colab.research.google.com/assets/colab-badge.svg\" alt=\"Open In Colab\"/></a>"
      ]
    },
    {
      "cell_type": "code",
      "execution_count": null,
      "metadata": {
        "id": "CNaGXGfq-Z9_"
      },
      "outputs": [],
      "source": [
        "import warnings\n",
        "warnings.filterwarnings('ignore')"
      ]
    },
    {
      "cell_type": "code",
      "source": [
        "import numpy as np\n",
        "import pandas as pd"
      ],
      "metadata": {
        "id": "ziZv55Q0-5Xe"
      },
      "execution_count": null,
      "outputs": []
    },
    {
      "cell_type": "code",
      "source": [
        "from google.colab import drive\n",
        "drive.mount('/content/drive')"
      ],
      "metadata": {
        "id": "1EguNrt-UT0D"
      },
      "execution_count": null,
      "outputs": []
    },
    {
      "cell_type": "code",
      "source": [
        "import seaborn as sns\n",
        "import matplotlib.pyplot as plt\n",
        "import plotly.express as px"
      ],
      "metadata": {
        "id": "MDrDXqL3-_bU"
      },
      "execution_count": null,
      "outputs": []
    },
    {
      "cell_type": "code",
      "source": [
        "df1=pd.read_csv('/content/drive/MyDrive/IBM_2.csv')\n",
        "df2=pd.read_csv('/content/drive/MyDrive/mental-and-substance-use-as-share-of-disease -AI.csv')"
      ],
      "metadata": {
        "id": "dr_vvh3vE3hh"
      },
      "execution_count": null,
      "outputs": []
    },
    {
      "cell_type": "code",
      "source": [
        "df1.head()"
      ],
      "metadata": {
        "id": "WrqQenl9FbYH"
      },
      "execution_count": null,
      "outputs": []
    },
    {
      "cell_type": "code",
      "source": [
        "df2.head(10)"
      ],
      "metadata": {
        "id": "kEtzyIEXFkY4"
      },
      "execution_count": null,
      "outputs": []
    },
    {
      "cell_type": "code",
      "source": [
        "data=pd.merge(df1,df2)\n",
        "data.head(10)"
      ],
      "metadata": {
        "id": "9X1QN3ZUFqxq"
      },
      "execution_count": null,
      "outputs": []
    },
    {
      "cell_type": "code",
      "source": [
        "data.isnull().sum()"
      ],
      "metadata": {
        "id": "RquoqkPDFyAl"
      },
      "execution_count": null,
      "outputs": []
    },
    {
      "cell_type": "code",
      "source": [
        "data.drop('Code',axis=1,inplace=True)"
      ],
      "metadata": {
        "id": "fVe4LBG7F4N3"
      },
      "execution_count": null,
      "outputs": []
    },
    {
      "cell_type": "code",
      "source": [
        "data.head(10)"
      ],
      "metadata": {
        "id": "fpfTlAdDGGrn"
      },
      "execution_count": null,
      "outputs": []
    },
    {
      "cell_type": "code",
      "source": [
        "data.size,data.shape"
      ],
      "metadata": {
        "id": "CoE1_DHxGKi-"
      },
      "execution_count": null,
      "outputs": []
    },
    {
      "cell_type": "code",
      "source": [
        "data.set_axis(['Country','Year','Schizophrenia','Bipolar_disorder','Eating','Anxiety','Drug_use','depression','alcohol','mental_fitness'],axis='columns',inplace=True)"
      ],
      "metadata": {
        "id": "H3M97On1GRJc"
      },
      "execution_count": null,
      "outputs": []
    },
    {
      "cell_type": "code",
      "source": [
        "data.head(10)"
      ],
      "metadata": {
        "id": "-cymWpEIHgQt"
      },
      "execution_count": null,
      "outputs": []
    },
    {
      "cell_type": "code",
      "source": [
        "plt.figure(figsize=(12,6))\n",
        "sns.heatmap(data.corr(),annot=True,cmap='Blues')\n",
        "plt.plot()"
      ],
      "metadata": {
        "id": "qCQ3zKCXHogO"
      },
      "execution_count": null,
      "outputs": []
    },
    {
      "cell_type": "code",
      "source": [
        "sns.pairplot(data,corner=True)\n",
        "plt.show()"
      ],
      "metadata": {
        "id": "SiFwswxiIQIC"
      },
      "execution_count": null,
      "outputs": []
    },
    {
      "cell_type": "code",
      "source": [
        "mean=data['mental_fitness'].mean()\n",
        "mean"
      ],
      "metadata": {
        "id": "uggJ0LrUIV52"
      },
      "execution_count": null,
      "outputs": []
    },
    {
      "cell_type": "code",
      "source": [
        "fig=px.pie(data,values='mental_fitness',names='Year')\n",
        "fig.show()"
      ],
      "metadata": {
        "id": "6xRxi5EiJD8c"
      },
      "execution_count": null,
      "outputs": []
    },
    {
      "cell_type": "code",
      "source": [
        "fig=px.line(data,x=\"Year\",y=\"mental_fitness\",color=\"Country\",markers=True,color_discrete_sequence=['red','blue'],template='plotly_dark')\n",
        "fig.show()"
      ],
      "metadata": {
        "id": "OqECXAViJqh2"
      },
      "execution_count": null,
      "outputs": []
    },
    {
      "cell_type": "code",
      "source": [
        "df=pd.DataFrame(data)"
      ],
      "metadata": {
        "id": "J9ftizGyVVLY"
      },
      "execution_count": null,
      "outputs": []
    },
    {
      "cell_type": "code",
      "source": [
        "df.info()"
      ],
      "metadata": {
        "id": "L6hoqSuYLVoG"
      },
      "execution_count": null,
      "outputs": []
    },
    {
      "cell_type": "code",
      "source": [
        "from sklearn.preprocessing import LabelEncoder\n",
        "l=LabelEncoder()\n",
        "for i in df.columns:\n",
        "  if df[i].dtype == 'object':\n",
        "    df[i]=l.fit_transform(df[i])"
      ],
      "metadata": {
        "id": "emkYeueoLdum"
      },
      "execution_count": null,
      "outputs": []
    },
    {
      "cell_type": "code",
      "source": [
        "df.shape"
      ],
      "metadata": {
        "id": "2BrNruxpMFVZ"
      },
      "execution_count": null,
      "outputs": []
    },
    {
      "cell_type": "code",
      "source": [
        "x=df.drop('mental_fitness',axis=1)\n",
        "y=df['mental_fitness']\n",
        "from sklearn.model_selection import train_test_split\n",
        "xtrain,xtest,ytrain,ytest=train_test_split(x,y,test_size=.20,random_state=2)"
      ],
      "metadata": {
        "id": "HbngDPvqMJkA"
      },
      "execution_count": null,
      "outputs": []
    },
    {
      "cell_type": "code",
      "source": [
        "print(\"xtrain: \",xtrain.shape)\n",
        "print(\"xtest: \",xtest.shape)\n",
        "print(\"\\n ytrain: \",ytrain.shape)\n",
        "print(\"ytest: \",ytest.shape)"
      ],
      "metadata": {
        "id": "ZkG0xCCWNZXz"
      },
      "execution_count": null,
      "outputs": []
    },
    {
      "cell_type": "code",
      "source": [
        "from sklearn.linear_model import LinearRegression\n",
        "from sklearn.metrics import mean_squared_error,r2_score\n",
        "lr=LinearRegression()\n",
        "lr.fit(xtrain,ytrain)\n",
        "\n",
        "ytrain_pred=lr.predict(xtrain)\n",
        "mse=mean_squared_error(ytrain,ytrain_pred)\n",
        "rmse=(np.sqrt(mean_squared_error(ytrain,ytrain_pred)))\n",
        "r2=r2_score(ytrain,ytrain_pred)\n",
        "\n",
        "print(\"The Linear Regression model performance for training set\")\n",
        "print(\"----------------------------------------------------\")\n",
        "print('MSE is {}'.format(mse))\n",
        "print('RMSE is {}'.format(rmse))\n",
        "print('R2 score is {}'.format(r2))\n"
      ],
      "metadata": {
        "id": "gF3RH_aGOMEO"
      },
      "execution_count": null,
      "outputs": []
    },
    {
      "cell_type": "code",
      "source": [
        "from sklearn.ensemble import RandomForestRegressor\n",
        "rf=RandomForestRegressor()\n",
        "rf.fit(xtrain,ytrain)\n",
        "\n",
        "ytrain_pred=rf.predict(xtrain)\n",
        "mse=mean_squared_error(ytrain,ytrain_pred)\n",
        "rmse=(np.sqrt(mean_squared_error(ytrain,ytrain_pred)))\n",
        "r2=r2_score(ytrain,ytrain_pred)\n",
        "\n",
        "print(\"The Random Forest Regressor model performance for training set\")\n",
        "print(\"----------------------------------------------------\")\n",
        "print('MSE is {}'.format(mse))\n",
        "print('RMSE is {}'.format(rmse))\n",
        "print('R2 score is {}'.format(r2))\n"
      ],
      "metadata": {
        "id": "5BAKOW84QcLO"
      },
      "execution_count": null,
      "outputs": []
    },
    {
      "cell_type": "code",
      "source": [
        "ytest_pred=lr.predict(xtest)\n",
        "mse=mean_squared_error(ytest,ytest_pred)\n",
        "rmse=(np.sqrt(mean_squared_error(ytest,ytest_pred)))\n",
        "r2=r2_score(ytest,ytest_pred)\n",
        "\n",
        "print(\"The Linear Regression model performance for training set\")\n",
        "print(\"----------------------------------------------------\")\n",
        "print('MSE is {}'.format(mse))\n",
        "print('RMSE is {}'.format(rmse))\n",
        "print('R2 score is {}'.format(r2))\n",
        "\n",
        "ytest_pred=rf.predict(xtest)\n",
        "mse=mean_squared_error(ytest,ytest_pred)\n",
        "rmse=(np.sqrt(mean_squared_error(ytest,ytest_pred)))\n",
        "r2=r2_score(ytest,ytest_pred)\n",
        "\n",
        "print(\"\\n \\nThe Random Forest Regressor model performance for training set\")\n",
        "print(\"----------------------------------------------------\")\n",
        "print('MSE is {}'.format(mse))\n",
        "print('RMSE is {}'.format(rmse))\n",
        "print('R2 score is {}'.format(r2))\n"
      ],
      "metadata": {
        "id": "z8Z0kEITRjXT"
      },
      "execution_count": null,
      "outputs": []
    }
  ]
}